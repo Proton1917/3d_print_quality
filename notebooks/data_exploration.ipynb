{
 "cells": [
  {
   "cell_type": "markdown",
   "id": "915be82d",
   "metadata": {},
   "source": [
    "# 3D打印质量评估 - 数据探索与模型演示\n",
    "\n",
    "这个notebook演示了3D打印质量评估项目的数据处理流程和模型使用方法。"
   ]
  },
  {
   "cell_type": "markdown",
   "id": "7ea3486b",
   "metadata": {},
   "source": [
    "## 导入必要的库"
   ]
  },
  {
   "cell_type": "code",
   "execution_count": 1,
   "id": "bf8da0b5",
   "metadata": {},
   "outputs": [],
   "source": [
    "import os\n",
    "import sys\n",
    "import numpy as np\n",
    "import pandas as pd\n",
    "import matplotlib.pyplot as plt\n",
    "import seaborn as sns\n",
    "import torch\n",
    "import torchvision\n",
    "import cv2\n",
    "from PIL import Image\n",
    "from tqdm.notebook import tqdm\n",
    "\n",
    "# 添加项目根目录到路径\n",
    "sys.path.append(os.path.abspath('..'))\n",
    "\n",
    "# 设置显示参数\n",
    "pd.set_option('display.max_columns', None)\n",
    "plt.rcParams['figure.figsize'] = (12, 8)\n",
    "\n",
    "%matplotlib inline"
   ]
  },
  {
   "cell_type": "markdown",
   "id": "4c955553",
   "metadata": {},
   "source": [
    "## 加载和探索元数据"
   ]
  },
  {
   "cell_type": "code",
   "execution_count": null,
   "id": "6547f663",
   "metadata": {},
   "outputs": [],
   "source": [
    "# 加载元数据\n",
    "metadata_path = '../data/metadata.csv'\n",
    "metadata = pd.read_csv(metadata_path)\n",
    "\n",
    "# 显示前几行\n",
    "print(f\"数据集大小: {len(metadata)} 条记录\")\n",
    "metadata.head()"
   ]
  },
  {
   "cell_type": "code",
   "execution_count": null,
   "id": "aa59c62f",
   "metadata": {},
   "outputs": [],
   "source": [
    "# 查看数据统计信息\n",
    "metadata.describe()"
   ]
  },
  {
   "cell_type": "code",
   "execution_count": null,
   "id": "ef555a70",
   "metadata": {},
   "outputs": [],
   "source": [
    "# 检查缺失值\n",
    "print(\"缺失值统计:\")\n",
    "metadata.isnull().sum()"
   ]
  },
  {
   "cell_type": "markdown",
   "id": "0bed9336",
   "metadata": {},
   "source": [
    "## 数据可视化"
   ]
  },
  {
   "cell_type": "code",
   "execution_count": null,
   "id": "ad0584a5",
   "metadata": {},
   "outputs": [],
   "source": [
    "# 可视化质量分数分布\n",
    "plt.figure(figsize=(10, 6))\n",
    "sns.histplot(metadata['quality_score'], kde=True, bins=20)\n",
    "plt.title('质量分数分布', fontsize=14)\n",
    "plt.xlabel('质量分数', fontsize=12)\n",
    "plt.ylabel('频率', fontsize=12)\n",
    "plt.show()"
   ]
  },
  {
   "cell_type": "code",
   "execution_count": null,
   "id": "659d6143",
   "metadata": {},
   "outputs": [],
   "source": [
    "# 可视化缺陷类型分布\n",
    "plt.figure(figsize=(12, 6))\n",
    "defect_counts = metadata['defect_type'].value_counts()\n",
    "sns.barplot(x=defect_counts.index, y=defect_counts.values)\n",
    "plt.title('缺陷类型分布', fontsize=14)\n",
    "plt.xlabel('缺陷类型', fontsize=12)\n",
    "plt.ylabel('数量', fontsize=12)\n",
    "plt.xticks(rotation=45)\n",
    "plt.tight_layout()\n",
    "plt.show()"
   ]
  },
  {
   "cell_type": "code",
   "execution_count": null,
   "id": "2e385a61",
   "metadata": {},
   "outputs": [],
   "source": [
    "# 可视化参数与质量分数的关系\n",
    "fig, axes = plt.subplots(2, 2, figsize=(16, 12))\n",
    "axes = axes.flatten()\n",
    "\n",
    "params = ['layer_thickness', 'exposure_time', 'intensity', 'temperature']\n",
    "param_names = ['层厚', '曝光时间', '强度', '温度']\n",
    "\n",
    "for i, (param, name) in enumerate(zip(params, param_names)):\n",
    "    sns.scatterplot(x=param, y='quality_score', data=metadata, ax=axes[i], hue='defect_type', palette='viridis')\n",
    "    axes[i].set_title(f'{name} vs 质量分数', fontsize=14)\n",
    "    axes[i].set_xlabel(name, fontsize=12)\n",
    "    axes[i].set_ylabel('质量分数', fontsize=12)\n",
    "\n",
    "plt.tight_layout()\n",
    "plt.show()"
   ]
  },
  {
   "cell_type": "markdown",
   "id": "9bdfded5",
   "metadata": {},
   "source": [
    "## 参数之间的相关性"
   ]
  },
  {
   "cell_type": "code",
   "execution_count": null,
   "id": "2536b5fb",
   "metadata": {},
   "outputs": [],
   "source": [
    "# 计算参数与质量分数的相关系数\n",
    "numeric_data = metadata[['layer_thickness', 'exposure_time', 'intensity', 'temperature', 'quality_score']]\n",
    "correlation = numeric_data.corr()\n",
    "\n",
    "plt.figure(figsize=(10, 8))\n",
    "sns.heatmap(correlation, annot=True, cmap='coolwarm', fmt='.2f', linewidths=0.5)\n",
    "plt.title('参数相关性矩阵', fontsize=14)\n",
    "plt.tight_layout()\n",
    "plt.show()"
   ]
  },
  {
   "cell_type": "markdown",
   "id": "3d88be3f",
   "metadata": {},
   "source": [
    "## 查看图像样本"
   ]
  },
  {
   "cell_type": "code",
   "execution_count": null,
   "id": "0e229e6a",
   "metadata": {},
   "outputs": [],
   "source": [
    "# 定义图像显示函数\n",
    "def show_images(image_dir, image_ids, titles=None, rows=1, cols=3, figsize=(15, 5)):\n",
    "    \"\"\"显示多张图像\"\"\"\n",
    "    fig, axes = plt.subplots(rows, cols, figsize=figsize)\n",
    "    axes = axes.flatten() if rows * cols > 1 else [axes]\n",
    "    \n",
    "    for i, (ax, img_id) in enumerate(zip(axes, image_ids)):\n",
    "        img_path = os.path.join(image_dir, f\"{img_id}.jpg\")\n",
    "        if os.path.exists(img_path):\n",
    "            img = cv2.imread(img_path)\n",
    "            img = cv2.cvtColor(img, cv2.COLOR_BGR2RGB)\n",
    "            ax.imshow(img)\n",
    "            if titles is not None:\n",
    "                ax.set_title(titles[i])\n",
    "        else:\n",
    "            ax.text(0.5, 0.5, f'图像不存在: {img_id}', \n",
    "                    horizontalalignment='center', verticalalignment='center')\n",
    "        ax.axis('off')\n",
    "    \n",
    "    plt.tight_layout()\n",
    "    plt.show()"
   ]
  },
  {
   "cell_type": "code",
   "execution_count": null,
   "id": "a4947925",
   "metadata": {},
   "outputs": [],
   "source": [
    "# 查看一些样本图像\n",
    "raw_image_dir = '../data/raw'\n",
    "processed_image_dir = '../data/processed'\n",
    "\n",
    "sample_ids = metadata['image_id'].iloc[:5].tolist()\n",
    "sample_titles = [f\"ID: {img_id}, 质量: {score:.2f}, 缺陷: {defect}\" \n",
    "                for img_id, score, defect in zip(\n",
    "                    metadata['image_id'].iloc[:5],\n",
    "                    metadata['quality_score'].iloc[:5],\n",
    "                    metadata['defect_type'].iloc[:5]\n",
    "                )]\n",
    "\n",
    "# 尝试显示原始图像\n",
    "print(\"原始图像:\")\n",
    "show_images(raw_image_dir, sample_ids, sample_titles)"
   ]
  },
  {
   "cell_type": "code",
   "execution_count": null,
   "id": "b2c5cc8a",
   "metadata": {},
   "outputs": [],
   "source": [
    "# 尝试显示处理后的图像\n",
    "print(\"处理后的图像:\")\n",
    "show_images(processed_image_dir, sample_ids, sample_titles)"
   ]
  },
  {
   "cell_type": "markdown",
   "id": "a0ec9061",
   "metadata": {},
   "source": [
    "## 按缺陷类型查看样本"
   ]
  },
  {
   "cell_type": "code",
   "execution_count": null,
   "id": "abfee5a3",
   "metadata": {},
   "outputs": [],
   "source": [
    "# 按缺陷类型分组并展示样本\n",
    "defect_types = metadata['defect_type'].unique()\n",
    "\n",
    "for defect_type in defect_types:\n",
    "    print(f\"缺陷类型: {defect_type}\")\n",
    "    defect_samples = metadata[metadata['defect_type'] == defect_type]['image_id'].iloc[:3].tolist()\n",
    "    defect_scores = metadata[metadata['defect_type'] == defect_type]['quality_score'].iloc[:3].tolist()\n",
    "    defect_titles = [f\"ID: {img_id}, 质量: {score:.2f}\" for img_id, score in zip(defect_samples, defect_scores)]\n",
    "    \n",
    "    show_images(processed_image_dir, defect_samples, defect_titles)"
   ]
  },
  {
   "cell_type": "markdown",
   "id": "945f3b3a",
   "metadata": {},
   "source": [
    "## 模型推理演示\n",
    "\n",
    "这部分代码展示如何使用训练好的模型对图像进行推理。"
   ]
  },
  {
   "cell_type": "code",
   "execution_count": null,
   "id": "38ab454e",
   "metadata": {},
   "outputs": [],
   "source": [
    "from inference.inference import PrintQualityInference\n",
    "\n",
    "# 加载模型（假设已经有训练好的模型）\n",
    "# 注意: 请替换为实际的模型路径\n",
    "model_path = '../models/checkpoints/best_model.pth'\n",
    "try:\n",
    "    inferencer = PrintQualityInference(model_path)\n",
    "    model_loaded = True\n",
    "except Exception as e:\n",
    "    print(f\"模型加载失败: {str(e)}\")\n",
    "    print(\"请先训练模型或提供正确的模型路径\")\n",
    "    model_loaded = False"
   ]
  },
  {
   "cell_type": "code",
   "execution_count": null,
   "id": "8410cd99",
   "metadata": {},
   "outputs": [],
   "source": [
    "if model_loaded:\n",
    "    # 选择一些样本进行预测\n",
    "    test_samples = metadata['image_id'].iloc[5:8].tolist()\n",
    "    \n",
    "    for sample_id in test_samples:\n",
    "        image_path = os.path.join(processed_image_dir, f\"{sample_id}.jpg\")\n",
    "        if os.path.exists(image_path):\n",
    "            print(f\"\\n预测图像: {sample_id}\")\n",
    "            result = inferencer.predict(image_path, visualize=True)\n",
    "            \n",
    "            # 获取真实标签\n",
    "            true_sample = metadata[metadata['image_id'] == sample_id].iloc[0]\n",
    "            print(f\"真实质量分数: {true_sample['quality_score']:.2f}\")\n",
    "            print(f\"真实缺陷类型: {true_sample['defect_type']}\")\n",
    "            print(f\"真实参数: 层厚={true_sample['layer_thickness']}, \" + \n",
    "                  f\"曝光时间={true_sample['exposure_time']}, \" + \n",
    "                  f\"强度={true_sample['intensity']}, \" + \n",
    "                  f\"温度={true_sample['temperature']}\")\n",
    "        else:\n",
    "            print(f\"图像不存在: {sample_id}\")"
   ]
  },
  {
   "cell_type": "markdown",
   "id": "c0644a74",
   "metadata": {},
   "source": [
    "## 模型性能分析"
   ]
  },
  {
   "cell_type": "code",
   "execution_count": null,
   "id": "d3a14a94",
   "metadata": {},
   "outputs": [],
   "source": [
    "if model_loaded:\n",
    "    # 对所有可用图像进行预测\n",
    "    all_results = []\n",
    "    \n",
    "    # 限制数量，避免处理过多图像\n",
    "    max_samples = 20\n",
    "    sample_ids = metadata['image_id'].iloc[:max_samples].tolist()\n",
    "    \n",
    "    for sample_id in tqdm(sample_ids, desc=\"处理图像\"):\n",
    "        image_path = os.path.join(processed_image_dir, f\"{sample_id}.jpg\")\n",
    "        if os.path.exists(image_path):\n",
    "            result = inferencer.predict(image_path)\n",
    "            \n",
    "            # 获取真实标签\n",
    "            true_sample = metadata[metadata['image_id'] == sample_id].iloc[0]\n",
    "            \n",
    "            # 创建结果记录\n",
    "            result_record = {\n",
    "                'image_id': sample_id,\n",
    "                'pred_quality': result['quality']['class_name'],\n",
    "                'pred_quality_conf': result['quality']['confidence'],\n",
    "                'pred_defect': result['defect']['class_name'],\n",
    "                'pred_defect_conf': result['defect']['confidence'],\n",
    "                'true_quality_score': true_sample['quality_score'],\n",
    "                'true_defect': true_sample['defect_type']\n",
    "            }\n",
    "            \n",
    "            # 添加参数预测结果\n",
    "            for i, (name, value) in enumerate(result['parameters'].items()):\n",
    "                param_name = name.split('(')[0]  # 移除单位\n",
    "                result_record[f'pred_{param_name}'] = value\n",
    "            \n",
    "            # 添加真实参数\n",
    "            result_record['true_层厚'] = true_sample['layer_thickness']\n",
    "            result_record['true_曝光时间'] = true_sample['exposure_time']\n",
    "            result_record['true_强度'] = true_sample['intensity']\n",
    "            result_record['true_温度'] = true_sample['temperature']\n",
    "            \n",
    "            all_results.append(result_record)\n",
    "    \n",
    "    # 转换为DataFrame\n",
    "    results_df = pd.DataFrame(all_results)\n",
    "    results_df.head()"
   ]
  },
  {
   "cell_type": "code",
   "execution_count": null,
   "id": "8a02ad66",
   "metadata": {},
   "outputs": [],
   "source": [
    "if model_loaded and 'results_df' in locals() and len(results_df) > 0:\n",
    "    # 计算参数预测的平均绝对误差\n",
    "    mae_层厚 = np.mean(np.abs(results_df['pred_层厚'] - results_df['true_层厚']))\n",
    "    mae_曝光时间 = np.mean(np.abs(results_df['pred_曝光时间'] - results_df['true_曝光时间']))\n",
    "    mae_强度 = np.mean(np.abs(results_df['pred_强度'] - results_df['true_强度']))\n",
    "    mae_温度 = np.mean(np.abs(results_df['pred_温度'] - results_df['true_温度']))\n",
    "    \n",
    "    print(\"参数预测平均绝对误差 (MAE):\")\n",
    "    print(f\"层厚: {mae_层厚:.4f} mm\")\n",
    "    print(f\"曝光时间: {mae_曝光时间:.4f} s\")\n",
    "    print(f\"强度: {mae_强度:.4f} %\")\n",
    "    print(f\"温度: {mae_温度:.4f} °C\")\n",
    "    \n",
    "    # 可视化预测vs真实值\n",
    "    params = ['层厚', '曝光时间', '强度', '温度']\n",
    "    fig, axes = plt.subplots(2, 2, figsize=(16, 12))\n",
    "    axes = axes.flatten()\n",
    "    \n",
    "    for i, param in enumerate(params):\n",
    "        axes[i].scatter(results_df[f'true_{param}'], results_df[f'pred_{param}'])\n",
    "        axes[i].plot([results_df[f'true_{param}'].min(), results_df[f'true_{param}'].max()], \n",
    "                  [results_df[f'true_{param}'].min(), results_df[f'true_{param}'].max()], 'r--')\n",
    "        axes[i].set_xlabel(f'真实{param}')\n",
    "        axes[i].set_ylabel(f'预测{param}')\n",
    "        axes[i].set_title(f'{param} 预测 vs 真实值')\n",
    "        axes[i].grid(True)\n",
    "    \n",
    "    plt.tight_layout()\n",
    "    plt.show()"
   ]
  },
  {
   "cell_type": "markdown",
   "id": "1da4a0ec",
   "metadata": {},
   "source": [
    "## 总结与观察\n",
    "\n",
    "在这个notebook中，我们：\n",
    "\n",
    "1. 探索了3D打印数据集的结构和统计特征\n",
    "2. 可视化了不同参数之间的关系\n",
    "3. 查看了不同缺陷类型的示例\n",
    "4. 使用训练好的模型进行了推理演示\n",
    "5. 分析了模型的性能和预测准确度\n",
    "\n",
    "主要发现：\n",
    "- [在实际使用时填写观察结果]\n",
    "- [模型优势和不足]\n",
    "- [可能的改进方向]"
   ]
  }
 ],
 "metadata": {
  "kernelspec": {
   "display_name": "base",
   "language": "python",
   "name": "python3"
  },
  "language_info": {
   "codemirror_mode": {
    "name": "ipython",
    "version": 3
   },
   "file_extension": ".py",
   "mimetype": "text/x-python",
   "name": "python",
   "nbconvert_exporter": "python",
   "pygments_lexer": "ipython3",
   "version": "3.12.2"
  }
 },
 "nbformat": 4,
 "nbformat_minor": 5
}
